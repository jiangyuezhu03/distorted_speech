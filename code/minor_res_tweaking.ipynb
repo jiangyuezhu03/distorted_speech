{
 "cells": [
  {
   "cell_type": "markdown",
   "id": "012adfb8",
   "metadata": {},
   "source": [
    "# wavlm fast 0.5"
   ]
  },
  {
   "cell_type": "markdown",
   "id": "99622e8c",
   "metadata": {},
   "source": [
    "the cer_res folder is in fact full of whisper and owsm files which doesn't have cer number. just to make sure all the wav2vec and wavlm ones have the cer number (as they don't need text normalization)\n",
    "\n",
    "the different output path is just for double-check, i have actually changed the filename to replace the original file"
   ]
  },
  {
   "cell_type": "code",
   "execution_count": 4,
   "id": "7caf2926",
   "metadata": {},
   "outputs": [],
   "source": [
    "path = \"../res/cer_res/wavlm-large_fast_0.5_results.json\"\n",
    "import json\n",
    "with open(path, \"r\", encoding=\"utf-8\") as f:\n",
    "    data = json.load(f)"
   ]
  },
  {
   "cell_type": "code",
   "execution_count": 6,
   "id": "708a9d4e",
   "metadata": {},
   "outputs": [],
   "source": [
    "import numpy as np\n",
    "from jiwer import cer\n",
    "refs = []\n",
    "preds = []\n",
    "cer_list = []\n",
    "for seg in data.get(\"segments\", []):\n",
    "    ref = seg.get(\"reference\", \"\")\n",
    "    pred = seg.get(\"prediction\", \"\")\n",
    "    refs.append(ref)\n",
    "    preds.append(pred)\n",
    "\n",
    "    seg[\"prediction\"] = pred\n",
    "\n",
    "    # if seg.get(\"wer\") is None:\n",
    "    #     seg[\"wer\"] = round(wer(ref, pred), 4)\n",
    "    if seg.get(\"cer\") is None:\n",
    "        seg[\"cer\"] = round(cer(ref, pred), 4)\n",
    "    cer_list.append(seg['cer'])\n",
    "\n",
    "# if data.get(\"overall_wer\") is None:\n",
    "#   data[\"overall_wer\"] = round(wer(refs, preds), 4)\n",
    "if data.get(\"overall_cer\") is None:\n",
    "    data[\"overall_cer\"] = round(cer(refs, preds), 4)\n",
    "    # data[\"avg_cer\"] = np.mean(cer_list)\n",
    "out_path=\"../res/cer_res/wavlm-large_fast_0.5_results_cer.json\"\n",
    "with open(out_path, \"w\", encoding=\"utf-8\") as f:\n",
    "        json.dump(data, f, indent=2, ensure_ascii=False)"
   ]
  }
 ],
 "metadata": {
  "kernelspec": {
   "display_name": "base",
   "language": "python",
   "name": "python3"
  },
  "language_info": {
   "codemirror_mode": {
    "name": "ipython",
    "version": 3
   },
   "file_extension": ".py",
   "mimetype": "text/x-python",
   "name": "python",
   "nbconvert_exporter": "python",
   "pygments_lexer": "ipython3",
   "version": "3.12.3"
  }
 },
 "nbformat": 4,
 "nbformat_minor": 5
}
